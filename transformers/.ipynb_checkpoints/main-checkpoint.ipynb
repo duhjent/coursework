{
 "cells": [
  {
   "cell_type": "code",
   "execution_count": 58,
   "id": "2a4ea9ac-c36f-449e-a4e8-ef1b8cbbdf12",
   "metadata": {
    "tags": []
   },
   "outputs": [],
   "source": [
    "import pandas as pd\n",
    "import numpy as np\n",
    "import torch\n",
    "from torch import nn\n",
    "from torch.utils.data import DataLoader, Dataset\n",
    "from transformers import DistilBertModel, DistilBertTokenizer\n",
    "from sklearn.model_selection import train_test_split\n",
    "from tqdm import tqdm\n",
    "import sys\n",
    "from model import DistilBertClassifier\n",
    "from dataset import NewsDataset\n",
    "from sklearn import metrics\n",
    "import matplotlib.pyplot as plt\n",
    "import json"
   ]
  },
  {
   "cell_type": "code",
   "execution_count": 2,
   "id": "6eaa9c53-e538-452c-801d-3e6717c27071",
   "metadata": {
    "tags": []
   },
   "outputs": [],
   "source": [
    "device = 'cuda' if torch.cuda.is_available() else 'cpu'\n",
    "is_colab = 'google.colab' in sys.modules\n",
    "is_train = False"
   ]
  },
  {
   "cell_type": "code",
   "execution_count": 3,
   "id": "22d69106-2337-48c2-be2c-c611ea186d64",
   "metadata": {
    "tags": []
   },
   "outputs": [],
   "source": [
    "if is_colab:\n",
    "    from google.colab import drive\n",
    "    drive.mount('./mnt')\n",
    "    base_dir = './mnt/My Drive/coursework'\n",
    "else:\n",
    "    base_dir = '.'"
   ]
  },
  {
   "cell_type": "code",
   "execution_count": 4,
   "id": "6d31bd52-aca2-4643-a86b-2054dfaf0a67",
   "metadata": {
    "tags": []
   },
   "outputs": [],
   "source": [
    "dataframe = pd.read_csv(f'{base_dir}/data/findata.csv', encoding='cp1252', header=None)\n",
    "dataframe.columns = ['sentiment', 'title']\n",
    "if is_train:\n",
    "    tokenizer = DistilBertTokenizer.from_pretrained('distilbert-base-uncased', truncation=True, do_lower_case=True)\n",
    "else:\n",
    "    tokenizer = DistilBertTokenizer.from_pretrained(f'{base_dir}/savepoints/vocab.pt', truncation=True, do_lower_case=True)"
   ]
  },
  {
   "cell_type": "code",
   "execution_count": 5,
   "id": "09c5d136-4ba1-4e2c-ad42-36f77c82abac",
   "metadata": {
    "tags": []
   },
   "outputs": [],
   "source": [
    "train_df, test_df = train_test_split(dataframe, test_size=.2)\n",
    "train_ds = NewsDataset(train_df, tokenizer, 128)\n",
    "test_ds = NewsDataset(test_df, tokenizer, 128)\n",
    "\n",
    "train_loader = DataLoader(train_ds, 16, shuffle=True)\n",
    "test_loader = DataLoader(test_ds, 16, shuffle=True)"
   ]
  },
  {
   "cell_type": "code",
   "execution_count": 6,
   "id": "ca1010e0-ed45-48a6-b313-fc8a727072d1",
   "metadata": {
    "tags": []
   },
   "outputs": [
    {
     "name": "stderr",
     "output_type": "stream",
     "text": [
      "Some weights of the model checkpoint at distilbert-base-uncased were not used when initializing DistilBertModel: ['vocab_projector.weight', 'vocab_layer_norm.bias', 'vocab_transform.weight', 'vocab_projector.bias', 'vocab_layer_norm.weight', 'vocab_transform.bias']\n",
      "- This IS expected if you are initializing DistilBertModel from the checkpoint of a model trained on another task or with another architecture (e.g. initializing a BertForSequenceClassification model from a BertForPreTraining model).\n",
      "- This IS NOT expected if you are initializing DistilBertModel from the checkpoint of a model that you expect to be exactly identical (initializing a BertForSequenceClassification model from a BertForSequenceClassification model).\n"
     ]
    },
    {
     "data": {
      "text/plain": [
       "DistilBertClassifier(\n",
       "  (l1): DistilBertModel(\n",
       "    (embeddings): Embeddings(\n",
       "      (word_embeddings): Embedding(30522, 768, padding_idx=0)\n",
       "      (position_embeddings): Embedding(512, 768)\n",
       "      (LayerNorm): LayerNorm((768,), eps=1e-12, elementwise_affine=True)\n",
       "      (dropout): Dropout(p=0.1, inplace=False)\n",
       "    )\n",
       "    (transformer): Transformer(\n",
       "      (layer): ModuleList(\n",
       "        (0-5): 6 x TransformerBlock(\n",
       "          (attention): MultiHeadSelfAttention(\n",
       "            (dropout): Dropout(p=0.1, inplace=False)\n",
       "            (q_lin): Linear(in_features=768, out_features=768, bias=True)\n",
       "            (k_lin): Linear(in_features=768, out_features=768, bias=True)\n",
       "            (v_lin): Linear(in_features=768, out_features=768, bias=True)\n",
       "            (out_lin): Linear(in_features=768, out_features=768, bias=True)\n",
       "          )\n",
       "          (sa_layer_norm): LayerNorm((768,), eps=1e-12, elementwise_affine=True)\n",
       "          (ffn): FFN(\n",
       "            (dropout): Dropout(p=0.1, inplace=False)\n",
       "            (lin1): Linear(in_features=768, out_features=3072, bias=True)\n",
       "            (lin2): Linear(in_features=3072, out_features=768, bias=True)\n",
       "            (activation): GELUActivation()\n",
       "          )\n",
       "          (output_layer_norm): LayerNorm((768,), eps=1e-12, elementwise_affine=True)\n",
       "        )\n",
       "      )\n",
       "    )\n",
       "  )\n",
       "  (pre_classifier): Linear(in_features=768, out_features=768, bias=True)\n",
       "  (act): ReLU()\n",
       "  (droput): Dropout(p=0.1, inplace=False)\n",
       "  (classifier): Linear(in_features=768, out_features=3, bias=True)\n",
       ")"
      ]
     },
     "execution_count": 6,
     "metadata": {},
     "output_type": "execute_result"
    }
   ],
   "source": [
    "model = DistilBertClassifier().to(device)\n",
    "model"
   ]
  },
  {
   "cell_type": "code",
   "execution_count": 7,
   "id": "88ad5706-9269-4dca-9ca1-d2ac07bca12a",
   "metadata": {
    "tags": []
   },
   "outputs": [],
   "source": [
    "if is_train:\n",
    "    loss_fn = nn.BCEWithLogitsLoss()\n",
    "    optim = torch.optim.Adam(model.parameters(), lr=2e-5)\n",
    "\n",
    "    for epoch in range(1, 3):\n",
    "        print(f'epoch {epoch:1}')\n",
    "        epoch_loss = 0\n",
    "        for bn, data in tqdm(enumerate(train_loader)):\n",
    "            out = model(data['ids'].to(device), data['mask'].to(device), data['token_type_ids'].to(device))\n",
    "            optim.zero_grad()\n",
    "            \n",
    "            loss = loss_fn(out, data['targets'].to(device))\n",
    "            epoch_loss = loss.item()\n",
    "\n",
    "            loss.backward()\n",
    "            optim.step()\n",
    "            if bn%50 == 0:\n",
    "                print(f'\\tloss: {epoch_loss/(bn+1):.5f}')\n",
    "        print(f'epoch {epoch:1} loss {epoch_loss/bn:.5f}')\n",
    "        torch.save(model.state_dict(), f'{base_dir}/savepoints/model.pt')\n",
    "else:\n",
    "    model.load_state_dict(torch.load(f'{base_dir}/savepoints/model.pt', map_location=device))"
   ]
  },
  {
   "cell_type": "code",
   "execution_count": 83,
   "id": "1be37572-aa2a-4efb-a46b-949e3a32573f",
   "metadata": {
    "tags": []
   },
   "outputs": [],
   "source": [
    "scores = {\n",
    "    'r2': lambda y_true, y_pred: metrics.r2_score(y_true, y_pred).item(),\n",
    "    'f1': lambda y_true, y_pred: metrics.f1_score(np.argmax(y_true, axis=1), np.argmax(y_pred, axis=1), average=None).tolist(),\n",
    "    'accuracy': lambda y_true, y_pred: metrics.accuracy_score(np.argmax(y_true, axis=1), np.argmax(y_pred, axis=1)).item(),\n",
    "    'prec-recall-perclass': lambda y_true, y_pred: {i: [x.tolist() for x in metrics.precision_recall_curve(y_true[:, i], y_pred[:, i])[:2]] for i in range(3)},\n",
    "    'avgprecision-perclass': lambda y_true, y_pred: {i: metrics.average_precision_score(y_true[:, i], y_pred[:, i]) for i in range(3)},\n",
    "    'prec-recall-micro': lambda y_true, y_pred: [x.tolist() for x in metrics.precision_recall_curve(y_true.ravel(), y_pred.ravel())[:2]],\n",
    "    'avgprecision-micro': lambda y_true, y_pred: metrics.average_precision_score(y_true, y_pred, average='micro').item(),\n",
    "}\n",
    "\n",
    "def sigmoid(x):\n",
    "    return 1 / (1 + np.exp(-x))\n",
    "\n",
    "def write_precision_data(model, prefix, test_loader, device):\n",
    "    model.eval()\n",
    "    fin_targets=np.array([]).reshape(0, 3)\n",
    "    fin_outputs=np.array([]).reshape(0, 3)\n",
    "    with torch.no_grad():\n",
    "        for _, data in tqdm(enumerate(test_loader)):\n",
    "            ids = data['ids'].to(device)\n",
    "            mask = data['mask'].to(device)\n",
    "            token_type_ids = data['token_type_ids'].to(device)\n",
    "            targets = data['targets'].to(device)\n",
    "            outputs = model(ids, mask, token_type_ids)\n",
    "            fin_targets = np.concatenate((fin_targets, targets.cpu().detach().numpy()))\n",
    "            fin_outputs = np.concatenate((fin_outputs, outputs.cpu().detach().numpy()))\n",
    "\n",
    "    results = {}\n",
    "    for k, v in scores.items():\n",
    "        results[k] = v(fin_targets, fin_outputs)\n",
    "\n",
    "    with open(f'./savepoints/{prefix}-acc-scores.json', 'w') as f:\n",
    "        json.dump(results, f)\n",
    "        \n",
    "    precision = {}\n",
    "    recall = {}\n",
    "    average_precision = {}\n",
    "\n",
    "    for i in range(3):\n",
    "        y_true = fin_targets[:, i]\n",
    "        y_pred = sigmoid(fin_outputs[:, i])\n",
    "        precision[i], recall[i], _ = metrics.precision_recall_curve(y_true, y_pred)\n",
    "        average_precision[i] = metrics.average_precision_score(y_true, y_pred)\n",
    "\n",
    "    precision[\"micro\"], recall[\"micro\"], _ = metrics.precision_recall_curve(\n",
    "        fin_targets.ravel(), fin_outputs.ravel()\n",
    "    )\n",
    "    average_precision[\"micro\"] = metrics.average_precision_score(fin_targets, fin_outputs, average=\"micro\")\n",
    "    \n",
    "    display = metrics.PrecisionRecallDisplay(\n",
    "        recall=recall[\"micro\"],\n",
    "        precision=precision[\"micro\"],\n",
    "        average_precision=average_precision[\"micro\"],\n",
    "    )\n",
    "    display.plot()\n",
    "    plt.savefig(f'./illustrations/precision-recall/{prefix}-microavg.svg')\n",
    "    \n",
    "    ax = plt.subplot()\n",
    "\n",
    "    display = metrics.PrecisionRecallDisplay(\n",
    "        recall=recall[\"micro\"],\n",
    "        precision=precision[\"micro\"],\n",
    "        average_precision=average_precision[\"micro\"],\n",
    "    )\n",
    "    display.plot(ax=ax, name=\"Micro-average precision-recall\", color=\"gold\")\n",
    "\n",
    "    for i in range(3):\n",
    "        display = metrics.PrecisionRecallDisplay(\n",
    "            recall=recall[i],\n",
    "            precision=precision[i],\n",
    "            average_precision=average_precision[i],\n",
    "        )\n",
    "        display.plot(ax=ax, name=f\"Precision-recall for class {i}\")\n",
    "\n",
    "    handles, labels = display.ax_.get_legend_handles_labels()\n",
    "    ax.set_xlim([0.0, 1.0])\n",
    "    ax.set_ylim([0.0, 1.05])\n",
    "    ax.legend(handles=handles, labels=labels, loc=\"best\")\n",
    "    ax.set_title(\"Extension of Precision-Recall curve to multi-class\")\n",
    "    plt.savefig(f'./illustrations/precision-recall/{prefix}-multiclass.svg')"
   ]
  },
  {
   "cell_type": "code",
   "execution_count": null,
   "id": "80650507-3274-4cb9-bed6-34efd920f75b",
   "metadata": {},
   "outputs": [],
   "source": []
  }
 ],
 "metadata": {
  "kernelspec": {
   "display_name": "Python 3 (ipykernel)",
   "language": "python",
   "name": "python3"
  },
  "language_info": {
   "codemirror_mode": {
    "name": "ipython",
    "version": 3
   },
   "file_extension": ".py",
   "mimetype": "text/x-python",
   "name": "python",
   "nbconvert_exporter": "python",
   "pygments_lexer": "ipython3",
   "version": "3.10.6"
  }
 },
 "nbformat": 4,
 "nbformat_minor": 5
}
