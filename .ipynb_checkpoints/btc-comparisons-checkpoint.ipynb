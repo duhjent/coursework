{
 "cells": [
  {
   "cell_type": "code",
   "execution_count": 1,
   "id": "4f25c861-fafd-4f44-ab17-743940baf181",
   "metadata": {},
   "outputs": [],
   "source": [
    "import nn_helpers\n",
    "import torch\n",
    "from torch import nn\n",
    "import pandas as pd\n",
    "import numpy as np\n",
    "import data_preprocessing"
   ]
  },
  {
   "cell_type": "code",
   "execution_count": 3,
   "id": "b3b3ec5e-f756-4b8a-b0c6-bad2ae3058e3",
   "metadata": {},
   "outputs": [],
   "source": [
    "seq_len = 10\n",
    "\n",
    "def net_to_str(num_hiddens, lr, num_out_neutrons):\n",
    "  return f'{num_hiddens}-{lr}-{num_out_neutrons}'\n",
    "\n",
    "def net_from_row(num_hiddens, lr, num_out_neutrons, is_gru):\n",
    "  num_out_neutrons = None if num_out_neutrons == 'None' else [num_hiddens]\n",
    "  return nn_helpers.RNNModel(seq_len, num_hiddens, 2, num_hidden_neutrons=num_out_neutrons, recur_ctor=nn.GRU if is_gru else nn.LSTM)\n"
   ]
  },
  {
   "cell_type": "code",
   "execution_count": 4,
   "id": "75628221-5370-4cdc-b8cc-37eca6f72289",
   "metadata": {},
   "outputs": [],
   "source": [
    "lstm_hist = pd.read_csv('models/lstm/hists.csv')\n",
    "gru_hist = pd.read_csv('models/gru/hists.csv')\n",
    "lstm_cut_hist = pd.read_csv('models/cut/lstm/hists.csv')\n",
    "gru_cut_hist = pd.read_csv('models/cut/gru/hists.csv')"
   ]
  },
  {
   "cell_type": "code",
   "execution_count": 7,
   "id": "49b7b248-5378-4cbd-99e9-fbae2aad732c",
   "metadata": {},
   "outputs": [],
   "source": [
    "main_df = data_preprocessing.get_data('BTC-USD')"
   ]
  },
  {
   "cell_type": "code",
   "execution_count": 14,
   "id": "922359e2-d07c-4027-aa7e-cbc7b2186f56",
   "metadata": {},
   "outputs": [
    {
     "name": "stdout",
     "output_type": "stream",
     "text": [
      "           Date          Open          High           Low         Close  \\\n",
      "2783 2022-05-01  37713.265625  38627.859375  37585.789063  38469.093750   \n",
      "2784 2022-05-02  38472.187500  39074.972656  38156.562500  38529.328125   \n",
      "2785 2022-05-03  38528.109375  38629.996094  37585.621094  37750.453125   \n",
      "2786 2022-05-04  37748.011719  39902.949219  37732.058594  39698.371094   \n",
      "2787 2022-05-05  39695.746094  39789.281250  35856.515625  36575.140625   \n",
      "2788 2022-05-06  36573.183594  36624.359375  35482.132813  36040.921875   \n",
      "2789 2022-05-07  36042.503906  36129.925781  34940.824219  35501.953125   \n",
      "2790 2022-05-08  35502.941406  35502.941406  33878.964844  34059.265625   \n",
      "2791 2022-05-09  34060.015625  34222.074219  30296.953125  30296.953125   \n",
      "\n",
      "         Adj Close       Volume  \n",
      "2783  38469.093750  27002760110  \n",
      "2784  38529.328125  32922642426  \n",
      "2785  37750.453125  27326943244  \n",
      "2786  39698.371094  36754404490  \n",
      "2787  36575.140625  43106256317  \n",
      "2788  36040.921875  37795577489  \n",
      "2789  35501.953125  24375896406  \n",
      "2790  34059.265625  36763041910  \n",
      "2791  30296.953125  63355494961  \n",
      "           Date          Open          High           Low        Close  \\\n",
      "2792 2022-05-10  30273.654297  32596.308594  29944.802734  31022.90625   \n",
      "\n",
      "        Adj Close       Volume  \n",
      "2792  31022.90625  59811038817  \n"
     ]
    }
   ],
   "source": [
    "X_test = main_df[(main_df['Date'] < '2022-05-10') & (main_df['Date'] >= '2022-05-01')]\n",
    "print(X_test)\n",
    "y_test = main_df[main_df['Date'] == '2022-05-10']\n",
    "print(y_test)"
   ]
  },
  {
   "cell_type": "code",
   "execution_count": 15,
   "id": "179fbc52-3c3d-4549-b682-7ee14da720bc",
   "metadata": {},
   "outputs": [
    {
     "data": {
      "text/plain": [
       "(array([[38469.09375 ],\n",
       "        [38529.328125],\n",
       "        [37750.453125],\n",
       "        [39698.371094],\n",
       "        [36575.140625],\n",
       "        [36040.921875],\n",
       "        [35501.953125],\n",
       "        [34059.265625],\n",
       "        [30296.953125]]),\n",
       " array([[31022.90625]]))"
      ]
     },
     "execution_count": 15,
     "metadata": {},
     "output_type": "execute_result"
    }
   ],
   "source": [
    "X_test = np.array(X_test['Close']).reshape(-1, 1)\n",
    "y_test = np.array(y_test['Close']).reshape(-1, 1)\n",
    "\n",
    "X_test, y_test"
   ]
  },
  {
   "cell_type": "code",
   "execution_count": 16,
   "id": "df01512d-3e37-43fb-b92b-74c742dcd77e",
   "metadata": {},
   "outputs": [],
   "source": [
    "for type_name, df in [('LSTM', lstm_hist), ('GRU', gru_hist), ('LSTM cut', lstm_cut_hist), ('GRU cut', gru_cut_hist)]:\n",
    "  "
   ]
  },
  {
   "cell_type": "code",
   "execution_count": null,
   "id": "3f44b022-aa62-43a5-bf94-4cb17785d7c2",
   "metadata": {},
   "outputs": [],
   "source": []
  }
 ],
 "metadata": {
  "kernelspec": {
   "display_name": "Python 3 (ipykernel)",
   "language": "python",
   "name": "python3"
  },
  "language_info": {
   "codemirror_mode": {
    "name": "ipython",
    "version": 3
   },
   "file_extension": ".py",
   "mimetype": "text/x-python",
   "name": "python",
   "nbconvert_exporter": "python",
   "pygments_lexer": "ipython3",
   "version": "3.10.4"
  }
 },
 "nbformat": 4,
 "nbformat_minor": 5
}
