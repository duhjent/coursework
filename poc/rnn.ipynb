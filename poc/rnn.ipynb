{
 "cells": [
  {
   "cell_type": "code",
   "execution_count": 1,
   "id": "867c3b38-5d80-4081-9c8c-135028bdb63f",
   "metadata": {
    "tags": []
   },
   "outputs": [],
   "source": [
    "import torch\n",
    "from torch import nn"
   ]
  },
  {
   "cell_type": "code",
   "execution_count": 2,
   "id": "00fed433-1943-4c5b-b56d-652fa6d5e706",
   "metadata": {
    "tags": []
   },
   "outputs": [],
   "source": [
    "class BaselineRnnModel(nn.Module):\n",
    "    def __init__(self):\n",
    "        super().__init__()\n",
    "        self.Wh = nn.Linear(5, 128)\n",
    "        self.Uh = nn.Linear(128, 128)\n",
    "        self.Wy = nn.Linear(128, 1)\n",
    "        self.t1 = nn.Tanh()\n",
    "        self.t2 = nn.Tanh()\n",
    "        \n",
    "    def forward(self, X, h):\n",
    "        h_new = self.t1(self.Wh(X) + self.Uh(h))\n",
    "        y = self.t2(self.Wy(h_new))\n",
    "        \n",
    "        return y, h_new"
   ]
  },
  {
   "cell_type": "code",
   "execution_count": 3,
   "id": "7a95176c-550b-4559-a93d-e6c276fef33e",
   "metadata": {
    "tags": []
   },
   "outputs": [],
   "source": [
    "model = BaselineRnnModel()"
   ]
  },
  {
   "cell_type": "code",
   "execution_count": 17,
   "id": "4984ca0f-8a3e-45f3-a147-47b394cee9dd",
   "metadata": {
    "tags": []
   },
   "outputs": [],
   "source": [
    "h = torch.zeros(128)\n",
    "x = [torch.randn(5) for _ in range(10)]\n",
    "\n",
    "y = torch.tensor([])\n",
    "\n",
    "for x_i in x:\n",
    "    y, h = model(x_i, h)"
   ]
  },
  {
   "cell_type": "code",
   "execution_count": 20,
   "id": "27c3d8cc-3b01-453b-afe5-8801f685dbe3",
   "metadata": {
    "tags": []
   },
   "outputs": [
    {
     "data": {
      "text/plain": [
       "torch.Size([128])"
      ]
     },
     "execution_count": 20,
     "metadata": {},
     "output_type": "execute_result"
    }
   ],
   "source": [
    "h.shape"
   ]
  },
  {
   "cell_type": "code",
   "execution_count": null,
   "id": "29d8f251-86dc-49af-a503-cf19e168a11e",
   "metadata": {},
   "outputs": [],
   "source": [
    "class LSTMModel(nn.Module):\n",
    "    def __init__(self):\n",
    "        super().__init__()\n",
    "        \n",
    "    def forward(self, X, h):\n",
    "        "
   ]
  }
 ],
 "metadata": {
  "kernelspec": {
   "display_name": "Python 3 (ipykernel)",
   "language": "python",
   "name": "python3"
  },
  "language_info": {
   "codemirror_mode": {
    "name": "ipython",
    "version": 3
   },
   "file_extension": ".py",
   "mimetype": "text/x-python",
   "name": "python",
   "nbconvert_exporter": "python",
   "pygments_lexer": "ipython3",
   "version": "3.10.6"
  }
 },
 "nbformat": 4,
 "nbformat_minor": 5
}
