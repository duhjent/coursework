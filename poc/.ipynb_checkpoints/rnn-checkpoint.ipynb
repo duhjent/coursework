{
 "cells": [
  {
   "cell_type": "code",
   "execution_count": 1,
   "id": "867c3b38-5d80-4081-9c8c-135028bdb63f",
   "metadata": {
    "tags": []
   },
   "outputs": [],
   "source": [
    "import torch\n",
    "from torch import nn"
   ]
  },
  {
   "cell_type": "code",
   "execution_count": null,
   "id": "00fed433-1943-4c5b-b56d-652fa6d5e706",
   "metadata": {},
   "outputs": [],
   "source": [
    "class BaselineRnnModel(nn.Module):\n",
    "    def __init__(self):\n",
    "        super().__init__()\n",
    "        \n",
    "    def forward(self, X, h):\n",
    "        return None, h"
   ]
  }
 ],
 "metadata": {
  "kernelspec": {
   "display_name": "Python 3 (ipykernel)",
   "language": "python",
   "name": "python3"
  },
  "language_info": {
   "codemirror_mode": {
    "name": "ipython",
    "version": 3
   },
   "file_extension": ".py",
   "mimetype": "text/x-python",
   "name": "python",
   "nbconvert_exporter": "python",
   "pygments_lexer": "ipython3",
   "version": "3.10.6"
  }
 },
 "nbformat": 4,
 "nbformat_minor": 5
}
